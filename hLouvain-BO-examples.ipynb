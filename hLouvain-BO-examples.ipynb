{
 "cells": [
  {
   "cell_type": "code",
   "execution_count": 1,
   "metadata": {},
   "outputs": [
    {
     "data": {
      "text/plain": [
       "'2.3.5'"
      ]
     },
     "execution_count": 1,
     "metadata": {},
     "output_type": "execute_result"
    }
   ],
   "source": [
    "import csv\n",
    "from sklearn.metrics import adjusted_rand_score as ARI\n",
    "from sklearn.metrics import adjusted_mutual_info_score as AMI \n",
    "import hypernetx as hnx\n",
    "import hypernetx.algorithms.hypergraph_modularity as hmod\n",
    "from collections import Counter\n",
    "import igraph as ig\n",
    "import pandas as pd\n",
    "import numpy as np\n",
    "import csv\n",
    "\n",
    "from collections import Counter\n",
    "from scipy.stats import binom \n",
    "from statistics import mean \n",
    "import seaborn as sns\n",
    "import matplotlib.pyplot as plt\n",
    "\n",
    "hnx.__version__"
   ]
  },
  {
   "cell_type": "markdown",
   "metadata": {},
   "source": [
    "## Visualisation functions"
   ]
  },
  {
   "cell_type": "code",
   "execution_count": 2,
   "metadata": {},
   "outputs": [],
   "source": [
    "def edge_statistics(edges_file):\n",
    "    with open(edges_file,\"r\") as f:\n",
    "        rd = csv.reader(f)\n",
    "        lines = list(rd)\n",
    "    Edges = []\n",
    "    for line in lines:\n",
    "        Edges.append(set(line))\n",
    "    sizes = [len(Edges[i]) for i in range(len(Edges))]\n",
    "    ctr_sizes = Counter(sizes)\n",
    "    print(\"EDGE STATISTICS:\")\n",
    "    print(\"Mean size:\",mean(sizes))\n",
    "    print(\"Sizes counter:\",dict(ctr_sizes))\n",
    "    df = pd.DataFrame(sizes)\n",
    "    df.columns = ['size']\n",
    "    plt.figure(figsize=(9,4))\n",
    "    sns.countplot(x = \"size\", data = df)\n",
    "    plt.show()\n",
    "\n",
    "def comm_statistics(comm_file):\n",
    "    with open(comm_file, 'r') as file:\n",
    "        gt = [int(line) for line in file]\n",
    "        A_gt = [x for x in hmod.dict2part({str(i+1):gt[i] for i in range(len(gt))}) if len(x)>0]\n",
    "\n",
    "    print(\"COMMUNITIES STATISTICS:\")\n",
    "    community_sizes = [len(A_gt[i]) for i in range(len(A_gt))]\n",
    "    print(\"Number of communities\", len(A_gt))\n",
    "    print(\"Mean size:\", mean(community_sizes), \"min size:\", min(community_sizes), \"max size:\", max(community_sizes) )\n",
    "    print(\"Sizes\", community_sizes)\n",
    "    \n",
    "    \n",
    "def edges_in_ground_truth_community(edge_file,partitions, show_aggr = 1, show_edge_sizes = 'all', edge_sizes_to_show = {}):\n",
    "    print(\"\")\n",
    "    print(\"EDGES IN A GROUND-TRUTH COMMUNITY\")\n",
    "    with open(comm_file, 'r') as file:\n",
    "        gt = [int(line) for line in file]\n",
    "        A_gt = [x for x in hmod.dict2part({str(i+1):gt[i] for i in range(len(gt))}) if len(x)>0]\n",
    "    with open(edge_file,\"r\") as f:\n",
    "        rd = csv.reader(f)\n",
    "        lines = list(rd)\n",
    "    Edges = []\n",
    "    for line in lines:\n",
    "        Edges.append(set(line))\n",
    "\n",
    "    edge_comm = []    \n",
    "    for e in Edges:\n",
    "        size = len(e)\n",
    "        biggest = Counter([gt[int(i)-1] for i in e]).most_common(1)[0][1]\n",
    "        edge_comm.append({'size': size, 'biggest': biggest, 'ratio': biggest/size})\n",
    "\n",
    "\n",
    "    to_display = {}\n",
    "    to_display[\"lambda\"] = []\n",
    "    xs = np.linspace(0.501,1, 500)\n",
    "    for x in xs:\n",
    "        to_display[\"lambda\"].append(x)\n",
    "        \n",
    "    if show_aggr == 1:\n",
    "        to_display[\"aggr\"] = []\n",
    "    edges2show = []\n",
    "        \n",
    "    if show_edge_sizes == 'all':\n",
    "        edges2show = list(set([len(e) for e in Edges]))\n",
    "    else:\n",
    "        edges2show = list(edge_sizes_to_show)  \n",
    "        \n",
    "    edges2show = sorted(edges2show)\n",
    "        \n",
    "        \n",
    "    for i in edges2show:\n",
    "        to_display[i] = []\n",
    "\n",
    "    for x in xs:\n",
    "        to_display[\"aggr\"].append(sum(list(a[\"ratio\"]>=x for a in edge_comm)))\n",
    "\n",
    "    for i in edges2show:\n",
    "        for x in xs:\n",
    "            to_display[i].append(sum(list(a[\"ratio\"]>=x and a[\"size\"]==i for a in edge_comm)))\n",
    "\n",
    "    plt.figure(figsize=(9,5))\n",
    "    plt.ylim(0, to_display[\"aggr\"][0]+50)\n",
    "    \n",
    "    plt.title(\"Number of edges captured by the partition\")\n",
    "    plt.xlabel(\"Percentage of nodes in the edge\")\n",
    "    plt.ylabel(\"Number of edges\")\n",
    "    df = pd.DataFrame(to_display)  \n",
    "    if show_aggr == 1:\n",
    "        sns.lineplot(data=df, x = \"lambda\", y = \"aggr\", label = \"all sizes\")\n",
    "    \n",
    "    for i in edges2show:\n",
    "        sns.lineplot(data=df, x = \"lambda\", y = i, label = \"size \"+str(i))\n",
    "        \n",
    "    plt.show()\n",
    "    return df, edge_comm\n",
    "\n",
    "\n",
    "\n",
    "    \n",
    "    \n",
    "    #return 0\n",
    "    \n",
    "def visualise_case(edge_file,comm_file, show_aggr = 1, show_edge_sizes = 'all', edge_sizes_to_show = {}):\n",
    "    edge_statistics(edge_file)\n",
    "    comm_statistics(comm_file)\n",
    "    df = edges_in_ground_truth_community(edge_file,comm_file, show_aggr=show_aggr,\n",
    "                           show_edge_sizes = show_edge_sizes, edge_sizes_to_show = edge_sizes_to_show)\n",
    "    return df"
   ]
  },
  {
   "cell_type": "markdown",
   "metadata": {},
   "source": [
    "## Loading the graph"
   ]
  },
  {
   "cell_type": "code",
   "execution_count": 3,
   "metadata": {},
   "outputs": [],
   "source": [
    "def load_ABCDH_from_file(filename):\n",
    "    with open(filename,\"r\") as f:\n",
    "        rd = csv.reader(f)\n",
    "        lines = list(rd)\n",
    "    Edges = []\n",
    "    for line in lines:\n",
    "        Edges.append(list(line))\n",
    "\n",
    "    HG = hnx.Hypergraph(dict(enumerate(Edges)))\n",
    "    return HG"
   ]
  },
  {
   "cell_type": "code",
   "execution_count": 4,
   "metadata": {},
   "outputs": [],
   "source": [
    "HG = load_ABCDH_from_file(\"datasets/results_300_he.txt\")\n",
    "## julia --project abcdh.jl -n 300 -d 2.5,5,20 -c 1.5,10,30 -x 0.3 -q 0.0,0.4,0.3,0.2,0.1 -w :linear -s 1234 --stats -o results_300\n",
    "\n"
   ]
  },
  {
   "cell_type": "code",
   "execution_count": 5,
   "metadata": {
    "scrolled": false
   },
   "outputs": [
    {
     "name": "stdout",
     "output_type": "stream",
     "text": [
      "\n",
      "EDGE STATISTICS:\n",
      "Mean size: 2.641053787047201\n",
      "Sizes counter: {2: 515, 3: 245, 4: 114, 5: 37}\n"
     ]
    },
    {
     "data": {
      "image/png": "[encoded data removed]",
      "text/plain": [
       "<Figure size 900x400 with 1 Axes>"
      ]
     },
     "metadata": {},
     "output_type": "display_data"
    },
    {
     "name": "stdout",
     "output_type": "stream",
     "text": [
      "COMMUNITIES STATISTICS:\n",
      "Number of communities 18\n",
      "Mean size: 16.666666666666668 min size: 10 max size: 28\n",
      "Sizes [28, 25, 25, 22, 22, 19, 18, 15, 15, 14, 14, 14, 13, 12, 12, 11, 11, 10]\n",
      "\n",
      "EDGES IN A GROUND-TRUTH COMMUNITY\n"
     ]
    },
    {
     "data": {
      "image/png": "[encoded data removed]",
      "text/plain": [
       "<Figure size 900x500 with 1 Axes>"
      ]
     },
     "metadata": {},
     "output_type": "display_data"
    }
   ],
   "source": [
    "comm_file = \"datasets/results_300_assign.txt\"\n",
    "edge_file = \"datasets/results_300_he.txt\"\n",
    "\n",
    "print(\"\")\n",
    "df = visualise_case(edge_file,comm_file)"
   ]
  },
  {
   "cell_type": "markdown",
   "metadata": {},
   "source": [
    "## Examples o usage"
   ]
  },
  {
   "cell_type": "code",
   "execution_count": 6,
   "metadata": {},
   "outputs": [],
   "source": [
    "import h_louvain as hl\n",
    "from h_louvain_BO import hLouvainBO"
   ]
  },
  {
   "cell_type": "code",
   "execution_count": 7,
   "metadata": {},
   "outputs": [],
   "source": [
    "hL = hl.hLouvain(HG,hmod_tau=1, resolution = 1, \n",
    "                                    random_seed = 8771) "
   ]
  },
  {
   "cell_type": "markdown",
   "metadata": {},
   "source": [
    "### hLouvain without last steps (any)"
   ]
  },
  {
   "cell_type": "code",
   "execution_count": 8,
   "metadata": {},
   "outputs": [
    {
     "name": "stdout",
     "output_type": "stream",
     "text": [
      "alphas_out [0.0, 0.8, 0.96]\n",
      "qH = 0.530150847058162\n",
      "final partition size 15\n",
      "CPU times: user 1.08 s, sys: 5.05 ms, total: 1.08 s\n",
      "Wall time: 1.08 s\n"
     ]
    }
   ],
   "source": [
    "%%time\n",
    "#### No forcing alpha = 1 at the end\n",
    "\n",
    "alphas = []\n",
    "c = 0.3\n",
    "b = 0.8\n",
    "for i in range(30):\n",
    "    alphas.append(1-((1-b)**i))\n",
    "\n",
    "A, q2, alphas_out = hL.h_louvain_community(alphas = alphas, force_alpha_1 = False,\n",
    "                                                change_frequency=c)\n",
    "qH = hL.combined_modularity(A, alpha = 1, hmod_tau = 1, resolution =1)\n",
    "\n",
    "print(\"alphas_out\", alphas_out)\n",
    "\n",
    "print(\"qH =\",qH)\n",
    "print(\"final partition size\",len(A))"
   ]
  },
  {
   "cell_type": "markdown",
   "metadata": {},
   "source": [
    "### hLouvain with cheap last step (default)"
   ]
  },
  {
   "cell_type": "code",
   "execution_count": 9,
   "metadata": {},
   "outputs": [
    {
     "name": "stdout",
     "output_type": "stream",
     "text": [
      "alphas_out [0.0, 0.8, 0.96, 1]\n",
      "qH = 0.530150847058162\n",
      "final partition size 15\n",
      "CPU times: user 589 ms, sys: 4.1 ms, total: 593 ms\n",
      "Wall time: 591 ms\n"
     ]
    }
   ],
   "source": [
    "%%time\n",
    "## default value force_alpha_1 = True\n",
    "\n",
    "alphas = []\n",
    "c = 0.3\n",
    "b = 0.8\n",
    "for i in range(30):\n",
    "    alphas.append(1-((1-b)**i))\n",
    "\n",
    "A, q2, alphas_out = hL.h_louvain_community(alphas = alphas, change_frequency=c)\n",
    "qH = hL.combined_modularity(A, alpha = 1, hmod_tau = 1, resolution =1)\n",
    "\n",
    "\n",
    "print(\"alphas_out\", alphas_out)\n",
    "\n",
    "print(\"qH =\",qH)\n",
    "print(\"final partition size\",len(A))"
   ]
  },
  {
   "cell_type": "code",
   "execution_count": 10,
   "metadata": {},
   "outputs": [
    {
     "name": "stdout",
     "output_type": "stream",
     "text": [
      "alphas_out [0.0, 0.8, 0.96, 1]\n",
      "gH (before last step) = 0.530150847058162\n",
      "before last step partition size 15\n",
      "gH (after last step) = 0.5325816464803007\n",
      "final partition size 15\n",
      "CPU times: user 4.89 s, sys: 28.4 ms, total: 4.92 s\n",
      "Wall time: 4.89 s\n"
     ]
    }
   ],
   "source": [
    "%%time\n",
    "Als, A, qls, qH, alphas_out = hL.h_louvain_community_plus_last_step(alphas = alphas, change_frequency=c)\n",
    "qH = hL.combined_modularity(A, alpha = 1, hmod_tau = 1, resolution =1)\n",
    "qHls = hL.combined_modularity(Als, alpha = 1, hmod_tau = 1, resolution =1)\n",
    "\n",
    "print(\"alphas_out\", alphas_out)\n",
    "print(\"gH (before last step) =\",qH)\n",
    "print(\"before last step partition size\",len(A))\n",
    "print(\"gH (after last step) =\",qHls)\n",
    "print(\"final partition size\",len(Als))"
   ]
  },
  {
   "cell_type": "markdown",
   "metadata": {},
   "source": [
    "## hLouvainBO examples"
   ]
  },
  {
   "cell_type": "code",
   "execution_count": 11,
   "metadata": {},
   "outputs": [],
   "source": [
    "hBO = hLouvainBO(HG,hmod_tau=1,resolution =1,  \n",
    "                                    random_seed = 8771) "
   ]
  },
  {
   "cell_type": "markdown",
   "metadata": {},
   "source": [
    "\n",
    "\n",
    "Parameters for hBO.set_params\n",
    "----------\n",
    "\n",
    "- seeds : array of integers, optional, default = [1234,5325,5467,4723,999,989,1245, 432,1904,7633]\n",
    "    \n",
    "The bayesian optimization target function is a mean of hLouvain algoritm executions for seeds taken from this array.\n",
    "The length of the array is crucial to control the number of execution.\n",
    "\n",
    "- xi : float, optional, default = 1e-3\n",
    "    \n",
    "The parameter for bayesian optimization, which controls exploration vs exploitation trade off\n",
    "\n",
    "- init_points : int, optional, default = 5\n",
    "    \n",
    "The number of initial points (b,c) for bayesian optimization\n",
    "\n",
    "- n_iter : int, optional, default = 5\n",
    "    \n",
    "The number of search points for bayesian optimization (bayesian optimization iterations)\n",
    "\n",
    "- pbounds : dict, default = {'b': (0,1), 'c': (0.01,0.99)}\n",
    "    \n",
    "Parameter bounds for b and c\n",
    "\n",
    "- bomode : str, default = \"last_step\"\n",
    "    \n",
    "The version of hLouvain bayesian optimization.\n",
    "The default \"last_step\" assumes performing the last step optimization only for several best results of core bayesian optimization output.\n",
    "    \n",
    "- Other options: \n",
    "    \n",
    "\"basic\" : no last step, \n",
    "\"last_step_all\" - performing last step optimization for every execution (not recommended for big networks)\n",
    "\n",
    "- last_step_top_points : int, optional, default = 1\n",
    "    \n",
    "The parameter used for bomode = \"last_step\". \n",
    "The number of best results for which the last step optimization is performed.\n",
    "\n",
    "- show_bo_table  : boolean, optional, default = True\n",
    "    \n",
    "When set True the bayesian optimization table is presented\n",
    "\n",
    "- given_points : list of dicts, optional, default = []\n",
    "    \n",
    "The points forced to be checked as additional init points for bayesian optimization \n",
    "E.g., given points = [{\"b\": 0.8, \"c\": 0.2}, {\"b\": 0.9, \"c\": 0.3}]\n",
    "   "
   ]
  },
  {
   "cell_type": "code",
   "execution_count": 12,
   "metadata": {
    "scrolled": false
   },
   "outputs": [
    {
     "name": "stdout",
     "output_type": "stream",
     "text": [
      "|   iter    |  target   |     b     |     c     |\n",
      "-------------------------------------------------\n",
      "| \u001b[0m1        \u001b[0m | \u001b[0m0.5228   \u001b[0m | \u001b[0m0.1476   \u001b[0m | \u001b[0m0.5427   \u001b[0m |\n",
      "| \u001b[0m2        \u001b[0m | \u001b[0m0.5207   \u001b[0m | \u001b[0m0.003355 \u001b[0m | \u001b[0m0.1489   \u001b[0m |\n",
      "| \u001b[95m3        \u001b[0m | \u001b[95m0.5255   \u001b[0m | \u001b[95m0.7225   \u001b[0m | \u001b[95m0.3788   \u001b[0m |\n",
      "| \u001b[0m4        \u001b[0m | \u001b[0m0.5233   \u001b[0m | \u001b[0m0.1622   \u001b[0m | \u001b[0m0.5052   \u001b[0m |\n",
      "| \u001b[0m5        \u001b[0m | \u001b[0m0.5216   \u001b[0m | \u001b[0m0.7788   \u001b[0m | \u001b[0m0.05543  \u001b[0m |\n",
      "| \u001b[0m6        \u001b[0m | \u001b[0m0.5234   \u001b[0m | \u001b[0m0.9365   \u001b[0m | \u001b[0m0.2221   \u001b[0m |\n",
      "| \u001b[0m7        \u001b[0m | \u001b[0m0.5249   \u001b[0m | \u001b[0m0.8074   \u001b[0m | \u001b[0m0.426    \u001b[0m |\n",
      "| \u001b[95m8        \u001b[0m | \u001b[95m0.5257   \u001b[0m | \u001b[95m0.6429   \u001b[0m | \u001b[95m0.4837   \u001b[0m |\n",
      "| \u001b[0m9        \u001b[0m | \u001b[0m0.5251   \u001b[0m | \u001b[0m0.489    \u001b[0m | \u001b[0m0.3897   \u001b[0m |\n",
      "| \u001b[0m10       \u001b[0m | \u001b[0m0.5251   \u001b[0m | \u001b[0m0.7188   \u001b[0m | \u001b[0m0.3812   \u001b[0m |\n",
      "=================================================\n"
     ]
    }
   ],
   "source": [
    "hBO.set_params(bomode=\"last_step\", last_step_top_points = 1)\n",
    "result_df = hBO.hLouvain_perform_BO()\n"
   ]
  },
  {
   "cell_type": "code",
   "execution_count": 13,
   "metadata": {},
   "outputs": [
    {
     "data": {
      "text/html": [
       "<div>\n",
       "<style scoped>\n",
       "    .dataframe tbody tr th:only-of-type {\n",
       "        vertical-align: middle;\n",
       "    }\n",
       "\n",
       "    .dataframe tbody tr th {\n",
       "        vertical-align: top;\n",
       "    }\n",
       "\n",
       "    .dataframe thead th {\n",
       "        text-align: right;\n",
       "    }\n",
       "</style>\n",
       "<table border=\"1\" class=\"dataframe\">\n",
       "  <thead>\n",
       "    <tr style=\"text-align: right;\">\n",
       "      <th></th>\n",
       "      <th>b</th>\n",
       "      <th>c</th>\n",
       "      <th>seed</th>\n",
       "      <th>#com</th>\n",
       "      <th>qH</th>\n",
       "      <th>alphas</th>\n",
       "      <th>A</th>\n",
       "      <th>A_lstep</th>\n",
       "      <th>qH_lstep</th>\n",
       "    </tr>\n",
       "  </thead>\n",
       "  <tbody>\n",
       "    <tr>\n",
       "      <th>81</th>\n",
       "      <td>0.489044</td>\n",
       "      <td>0.389676</td>\n",
       "      <td>5325</td>\n",
       "      <td>15</td>\n",
       "      <td>0.531342</td>\n",
       "      <td>[0.0, 0.48904444844422723, 0.738924424334336, ...</td>\n",
       "      <td>[{122, 206, 94, 53, 60, 24, 195, 222, 175, 235...</td>\n",
       "      <td>[{122, 206, 94, 53, 60, 195, 24, 222, 175, 235...</td>\n",
       "      <td>0.533565</td>\n",
       "    </tr>\n",
       "  </tbody>\n",
       "</table>\n",
       "</div>"
      ],
      "text/plain": [
       "           b         c  seed  #com        qH  \\\n",
       "81  0.489044  0.389676  5325    15  0.531342   \n",
       "\n",
       "                                               alphas  \\\n",
       "81  [0.0, 0.48904444844422723, 0.738924424334336, ...   \n",
       "\n",
       "                                                    A  \\\n",
       "81  [{122, 206, 94, 53, 60, 24, 195, 222, 175, 235...   \n",
       "\n",
       "                                              A_lstep  qH_lstep  \n",
       "81  [{122, 206, 94, 53, 60, 195, 24, 222, 175, 235...  0.533565  "
      ]
     },
     "execution_count": 13,
     "metadata": {},
     "output_type": "execute_result"
    }
   ],
   "source": [
    "result_df"
   ]
  },
  {
   "cell_type": "code",
   "execution_count": 14,
   "metadata": {},
   "outputs": [
    {
     "name": "stdout",
     "output_type": "stream",
     "text": [
      "qH (before last step): 0.5313418940914605\n",
      "qH (final - after last step): 0.5335653627000675\n",
      "partition size - final: 15\n"
     ]
    }
   ],
   "source": [
    "print(\"qH (before last step):\",result_df[\"qH\"].iloc[0])\n",
    "print(\"qH (final - after last step):\",result_df[\"qH_lstep\"].iloc[0])\n",
    "print(\"partition size - final:\",len(result_df[\"A_lstep\"].iloc[0]))"
   ]
  },
  {
   "cell_type": "markdown",
   "metadata": {},
   "source": [
    "### Checking AMI and ARI"
   ]
  },
  {
   "cell_type": "code",
   "execution_count": 15,
   "metadata": {},
   "outputs": [],
   "source": [
    "def getAMI_ARI(HG,gt,A):\n",
    "    d = hmod.part2dict(A)\n",
    "    A4ari = [d[str(i+1)] for i in range(len(HG.nodes))]\n",
    "    return AMI(gt, A4ari), ARI(gt, A4ari)"
   ]
  },
  {
   "cell_type": "code",
   "execution_count": 21,
   "metadata": {},
   "outputs": [
    {
     "name": "stdout",
     "output_type": "stream",
     "text": [
      "2-section (ML) (AMI,ARI): (0.8778070951451996, 0.7687929590387341) no of com 14\n",
      "modularity 0.5225418972108877\n"
     ]
    }
   ],
   "source": [
    "# 2-section iGraph\n",
    "\n",
    "G = hmod.two_section(HG)\n",
    "G.vs['louvain'] = G.community_multilevel(weights='weight').membership\n",
    "ML = hmod.dict2part({v['name']:v['louvain'] for v in G.vs})\n",
    "\n",
    "with open(comm_file, 'r') as file:\n",
    "    gt = [int(line) for line in file]\n",
    "A_gt = [x for x in hmod.dict2part({str(i+1):gt[i] for i in range(len(gt))}) if len(x)>0]\n",
    "\n",
    "\n",
    "\n",
    "print(\"2-section (ML) (AMI,ARI):\", getAMI_ARI(HG,gt,ML),\"no of com\", len(ML))\n",
    "print(\"modularity\", hL.combined_modularity(ML, alpha = 1, hmod_tau = 1, resolution =1))"
   ]
  },
  {
   "cell_type": "markdown",
   "metadata": {},
   "source": []
  },
  {
   "cell_type": "markdown",
   "metadata": {},
   "source": [
    "### check for hLouvainBO best"
   ]
  },
  {
   "cell_type": "code",
   "execution_count": 18,
   "metadata": {},
   "outputs": [
    {
     "name": "stdout",
     "output_type": "stream",
     "text": [
      "linear (AMI,ARI): (0.8260996087615211, 0.7197860349750446) no of com 15\n"
     ]
    }
   ],
   "source": [
    "sorted_results = result_df.sort_values(by = [\"qH_lstep\"],  ascending=False)\n",
    "best_A = sorted_results[\"A_lstep\"].tolist()\n",
    "\n",
    "for i in range(hBO.last_step_top_points):\n",
    "    print(\"linear (AMI,ARI):\", getAMI_ARI(HG,gt,best_A[i]),\"no of com\", len(best_A[i]))"
   ]
  },
  {
   "cell_type": "code",
   "execution_count": 19,
   "metadata": {},
   "outputs": [],
   "source": [
    "## different tau check"
   ]
  },
  {
   "cell_type": "code",
   "execution_count": 20,
   "metadata": {},
   "outputs": [
    {
     "name": "stdout",
     "output_type": "stream",
     "text": [
      "tau 0\n",
      "qH (before last step): 0.578169664716092\n",
      "qH (final - after last step): 0.5812134269568384\n",
      "partition size - final: 16\n",
      "(AMI,ARI): (0.7758653024993561, 0.6835631166225111)\n",
      "tau 1\n",
      "qH (before last step): 0.5313418940914605\n",
      "qH (final - after last step): 0.533540355687411\n",
      "partition size - final: 15\n",
      "(AMI,ARI): (0.8208580560479313, 0.7150702066901878)\n",
      "tau 1.5\n",
      "qH (before last step): 0.5153808287074598\n",
      "qH (final - after last step): 0.5188473314323772\n",
      "partition size - final: 15\n",
      "(AMI,ARI): (0.8537316517600071, 0.7528488620512173)\n",
      "tau 2\n",
      "qH (before last step): 0.5055491848306772\n",
      "qH (final - after last step): 0.5081704506044401\n",
      "partition size - final: 13\n",
      "(AMI,ARI): (0.8746770899488207, 0.7538127046071669)\n",
      "tau 2.5\n",
      "qH (before last step): 0.4986274192860015\n",
      "qH (final - after last step): 0.5007275332719552\n",
      "partition size - final: 13\n",
      "(AMI,ARI): (0.8693154947880367, 0.7491448807092727)\n",
      "tau 3\n",
      "qH (before last step): 0.4928516785386139\n",
      "qH (final - after last step): 0.4946758962743149\n",
      "partition size - final: 13\n",
      "(AMI,ARI): (0.8807791266594367, 0.7616777010201766)\n",
      "tau 3.5\n",
      "qH (before last step): 0.48827704863900756\n",
      "qH (final - after last step): 0.4896762616469599\n",
      "partition size - final: 13\n",
      "(AMI,ARI): (0.8935801125774704, 0.7796306097411174)\n",
      "tau 4\n",
      "qH (before last step): 0.48520008431743006\n",
      "qH (final - after last step): 0.4862191222499\n",
      "partition size - final: 12\n",
      "(AMI,ARI): (0.8655073999074658, 0.71490789991929)\n",
      "tau infinity\n",
      "qH (before last step): 0.46922051239892\n",
      "qH (final - after last step): 0.4693776661320239\n",
      "partition size - final: 9\n",
      "(AMI,ARI): (0.7959414068324591, 0.5765969409467018)\n"
     ]
    }
   ],
   "source": [
    "for tau in [0,1,1.5,2,2.5,3,3.5,4,\"infinity\"]:\n",
    "    hBO = hLouvainBO(HG,hmod_tau=tau,resolution =1,  \n",
    "                                    random_seed = 8771) \n",
    "    hBO.set_params(bomode=\"last_step\", last_step_top_points = 1, show_bo_table = False)\n",
    "    result_df = hBO.hLouvain_perform_BO()\n",
    "    print(\"tau\", tau)\n",
    "    print(\"qH (before last step):\",result_df[\"qH\"].iloc[0])\n",
    "    print(\"qH (final - after last step):\",result_df[\"qH_lstep\"].iloc[0])\n",
    "    print(\"partition size - final:\",len(result_df[\"A_lstep\"].iloc[0]))\n",
    "    print(\"(AMI,ARI):\", getAMI_ARI(HG,gt,result_df[\"A_lstep\"].iloc[0]))\n",
    "    \n",
    "    "
   ]
  },
  {
   "cell_type": "code",
   "execution_count": null,
   "metadata": {},
   "outputs": [],
   "source": []
  },
  {
   "cell_type": "code",
   "execution_count": null,
   "metadata": {},
   "outputs": [],
   "source": []
  }
 ],
 "metadata": {
  "kernelspec": {
   "display_name": "my-pyt3-11-hnx3",
   "language": "python",
   "name": "my-pyt3-11-hnx3"
  },
  "language_info": {
   "codemirror_mode": {
    "name": "ipython",
    "version": 3
   },
   "file_extension": ".py",
   "mimetype": "text/x-python",
   "name": "python",
   "nbconvert_exporter": "python",
   "pygments_lexer": "ipython3",
   "version": "3.11.9"
  }
 },
 "nbformat": 4,
 "nbformat_minor": 4
}
