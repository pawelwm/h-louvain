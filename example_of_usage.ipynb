{
 "cells": [
  {
   "cell_type": "code",
   "execution_count": 1,
   "id": "8e8f7051",
   "metadata": {},
   "outputs": [],
   "source": [
    "from sklearn.metrics import adjusted_rand_score as ARI\n",
    "from sklearn.metrics import adjusted_mutual_info_score as AMI \n",
    "import hypernetx as hnx\n",
    "import hypernetx.algorithms.hypergraph_modularity as hmod\n",
    "from collections import Counter\n",
    "import igraph as ig\n",
    "import pandas as pd\n",
    "import numpy as np\n",
    "import h_louvain as hl\n",
    "import csv\n",
    "import bayes_opt\n",
    "\n"
   ]
  },
  {
   "cell_type": "code",
   "execution_count": 2,
   "id": "3739c422",
   "metadata": {},
   "outputs": [],
   "source": [
    "def load_ABCDH_from_file(filename):\n",
    "    with open(filename,\"r\") as f:\n",
    "        rd = csv.reader(f)\n",
    "        lines = list(rd)\n",
    "    Edges = []\n",
    "    for line in lines:\n",
    "        Edges.append(list(line))\n",
    "\n",
    "    HG = hnx.Hypergraph(dict(enumerate(Edges)))\n",
    "    return HG"
   ]
  },
  {
   "cell_type": "code",
   "execution_count": 3,
   "id": "4a4fcf01",
   "metadata": {
    "scrolled": true
   },
   "outputs": [],
   "source": [
    "HG = load_ABCDH_from_file(\"datasets/results_300_he.txt\")\n",
    "## julia --project abcdh.jl -n 300 -d 2.5,5,20 -c 1.5,10,30 -x 0.3 -q 0.0,0.4,0.3,0.2,0.1 -w :linear -s 1234 --stats -o results_300\n"
   ]
  },
  {
   "cell_type": "code",
   "execution_count": 4,
   "id": "194f456d",
   "metadata": {},
   "outputs": [
    {
     "name": "stdout",
     "output_type": "stream",
     "text": [
      "CPU times: user 149 ms, sys: 0 ns, total: 149 ms\n",
      "Wall time: 148 ms\n"
     ]
    }
   ],
   "source": [
    "%%time\n",
    "# hmod_tau: w(d,c) = (c/d)^tau for c>d/2 else 0\n",
    "# hmod_tau = 1 (linear) \n",
    "# hmod_tau = 0 (majority)\n",
    "# hmod_tau = \"infinity\" (strict)\n",
    "\n",
    "hL = hl.hLouvain(HG, hmod_tau=1, resolution = 1, random_seed = 123) \n"
   ]
  },
  {
   "cell_type": "code",
   "execution_count": 5,
   "id": "745eeecb",
   "metadata": {},
   "outputs": [],
   "source": [
    "## basic hLouvain algorithm execution (without the last_step optimization)"
   ]
  },
  {
   "cell_type": "code",
   "execution_count": 6,
   "id": "5c4bc41f",
   "metadata": {
    "scrolled": true
   },
   "outputs": [
    {
     "name": "stdout",
     "output_type": "stream",
     "text": [
      "alphas_out [0.0, 0.8, 0.96, 1]\n",
      "final_alpha 1\n",
      "q2 = 0.5309079514468399\n",
      "CPU times: user 802 ms, sys: 0 ns, total: 802 ms\n",
      "Wall time: 802 ms\n"
     ]
    }
   ],
   "source": [
    "%%time\n",
    "\n",
    "alphas = []\n",
    "c = 0.3\n",
    "b = 0.8\n",
    "for i in range(30):\n",
    "    alphas.append(1-((1-b)**i))\n",
    "\n",
    "#alphas = [0]\n",
    "#alphas = [1]\n",
    "\n",
    "A, q2, alphas_out = hL.h_louvain_community(alphas = alphas, change_frequency = c)\n",
    "\n",
    "print(\"alphas_out\", alphas_out)\n",
    "print(\"final_alpha\", alphas_out[-1])\n",
    "print(\"q2 =\",q2)"
   ]
  },
  {
   "cell_type": "code",
   "execution_count": 7,
   "id": "4c5f0205",
   "metadata": {},
   "outputs": [
    {
     "name": "stdout",
     "output_type": "stream",
     "text": [
      "qH 0.5309079514468399\n",
      "partition [{'97', '251', '173', '106', '143', '78', '265', '155', '151', '20', '18', '237', '116', '223', '210', '229', '128', '228', '85', '95', '249', '132', '46', '288', '188', '109', '12', '193', '72', '88', '152', '145', '247', '222'}, {'4', '290', '114', '177', '82', '63', '40', '13', '162', '255', '167', '186', '147', '62', '180', '236', '44', '32', '235', '270', '283'}, {'131', '163', '47', '254', '42', '36', '298', '170', '142', '59', '10', '294', '99', '264', '69', '144'}, {'127', '207', '176', '3', '129', '33', '221', '250', '165', '187'}, {'209', '89', '87', '92', '121', '90', '28', '68', '198', '41', '16', '154', '110', '123', '34', '189', '280', '71', '119', '83', '230', '268', '226', '185', '141'}, {'102', '49', '205', '140', '244', '220', '269', '58', '225', '266', '2', '234', '166', '172', '211', '200', '258', '73', '216', '224', '104', '233', '31', '45', '201', '67', '15', '48', '241', '29', '202', '35'}, {'287', '118', '212', '245', '246', '168', '21', '100', '84', '130', '240', '113', '217'}, {'289', '257', '178', '208', '214', '184', '86', '138', '23', '157', '267', '279', '273', '98', '164', '146', '107', '30', '115'}, {'156', '137', '120', '161', '111', '192', '22', '38', '262', '159', '243', '19', '204', '196', '261', '275', '64', '259', '101', '277', '252', '7', '55', '171'}, {'24', '174', '195', '169', '53', '126', '94', '80', '206', '274', '60', '122', '108', '105', '293', '6', '175'}, {'96', '191', '203', '286', '271', '227', '77', '117', '197', '300', '81', '112', '125', '135', '124', '79', '65', '285', '299', '272', '70', '296', '183', '134', '260', '182', '148', '14'}, {'291', '136', '61', '37', '231', '9', '256', '51', '133', '26', '253', '199', '56', '292', '27', '75', '158', '263'}, {'66', '190', '149', '276', '297', '213', '103', '43', '284', '74', '57', '93', '50', '179', '238'}, {'25', '54', '194', '181', '218', '1', '11', '17', '150', '153', '248', '242', '282'}, {'5', '295', '91', '278', '8', '232', '281', '52', '219', '139', '215', '76', '39', '160', '239'}]\n"
     ]
    }
   ],
   "source": [
    "#checking the results (calculate h-modularity (alpha =1)) and print partition\n",
    "qH = hL.combined_modularity(A, alpha = 1,hmod_tau=1,resolution=1)\n",
    "print(\"qH\", qH)\n",
    "print(\"partition\",A)"
   ]
  },
  {
   "cell_type": "code",
   "execution_count": 8,
   "id": "de924b21",
   "metadata": {},
   "outputs": [],
   "source": [
    "## enhanced algorithm execution (with the last step optimization)"
   ]
  },
  {
   "cell_type": "code",
   "execution_count": 9,
   "id": "0e799ac0",
   "metadata": {},
   "outputs": [
    {
     "name": "stdout",
     "output_type": "stream",
     "text": [
      "alphas_out [0.0, 0.8, 0.96, 1]\n",
      "final_alpha 1\n",
      "qH-basic = 0.5309079514468399\n",
      "qH+last_step = 0.5324466112772114\n",
      "CPU times: user 4.62 s, sys: 14.4 ms, total: 4.63 s\n",
      "Wall time: 4.62 s\n"
     ]
    }
   ],
   "source": [
    "%%time\n",
    "\n",
    "alphas = []\n",
    "c = 0.3\n",
    "b = 0.8\n",
    "for i in range(30):\n",
    "    alphas.append(1-((1-b)**i))\n",
    "    \n",
    "    \n",
    "Als, A, qH_ls, qH_basic, alphas_out = hL.h_louvain_community_plus_last_step(alphas = alphas, change_frequency = c)\n",
    "\n",
    "\n",
    "print(\"alphas_out\", alphas_out)\n",
    "print(\"final_alpha\", alphas_out[-1])\n",
    "print(\"qH-basic =\",qH_basic)\n",
    "print(\"qH+last_step =\",qH_ls)\n"
   ]
  },
  {
   "cell_type": "code",
   "execution_count": 10,
   "id": "dc084049",
   "metadata": {},
   "outputs": [
    {
     "name": "stdout",
     "output_type": "stream",
     "text": [
      "qH 0.5309079514468399\n",
      "partition [{'97', '251', '173', '106', '143', '78', '265', '155', '151', '20', '18', '237', '116', '223', '210', '229', '128', '228', '85', '95', '249', '132', '46', '288', '188', '109', '12', '193', '72', '88', '152', '145', '247', '222'}, {'4', '290', '114', '177', '82', '63', '40', '13', '162', '255', '167', '186', '147', '62', '180', '236', '44', '32', '235', '270', '283'}, {'131', '163', '47', '254', '42', '36', '298', '170', '142', '59', '10', '294', '99', '264', '69', '144'}, {'127', '207', '176', '3', '129', '33', '221', '250', '165', '187'}, {'209', '89', '87', '92', '121', '90', '28', '68', '198', '41', '16', '154', '110', '123', '34', '189', '280', '71', '119', '83', '230', '268', '226', '185', '141'}, {'102', '49', '205', '140', '244', '220', '269', '58', '225', '266', '2', '234', '166', '172', '211', '200', '258', '73', '216', '224', '104', '233', '31', '45', '201', '67', '15', '48', '241', '29', '202', '35'}, {'287', '118', '212', '245', '246', '168', '21', '100', '84', '130', '240', '113', '217'}, {'289', '257', '178', '208', '214', '184', '86', '138', '23', '157', '267', '279', '273', '98', '164', '146', '107', '30', '115'}, {'156', '137', '120', '161', '111', '192', '22', '38', '262', '159', '243', '19', '204', '196', '261', '275', '64', '259', '101', '277', '252', '7', '55', '171'}, {'24', '174', '195', '169', '53', '126', '94', '80', '206', '274', '60', '122', '108', '105', '293', '6', '175'}, {'96', '191', '203', '286', '271', '227', '77', '117', '197', '300', '81', '112', '125', '135', '124', '79', '65', '285', '299', '272', '70', '296', '183', '134', '260', '182', '148', '14'}, {'291', '136', '61', '37', '231', '9', '256', '51', '133', '26', '253', '199', '56', '292', '27', '75', '158', '263'}, {'66', '190', '149', '276', '297', '213', '103', '43', '284', '74', '57', '93', '50', '179', '238'}, {'25', '54', '194', '181', '218', '1', '11', '17', '150', '153', '248', '242', '282'}, {'5', '295', '91', '278', '8', '232', '281', '52', '219', '139', '215', '76', '39', '160', '239'}]\n",
      "qH_last_step 0.5324466112772114\n",
      "partition [{'97', '251', '173', '106', '143', '78', '265', '155', '151', '18', '237', '116', '223', '210', '229', '128', '228', '85', '95', '132', '46', '288', '188', '109', '12', '193', '72', '88', '152', '145', '247', '222', '20'}, {'4', '290', '114', '82', '177', '63', '40', '13', '162', '255', '167', '186', '147', '62', '180', '236', '44', '32', '270', '283'}, {'131', '163', '47', '254', '296', '42', '36', '298', '170', '142', '59', '10', '294', '99', '249', '264', '69', '144'}, {'127', '207', '176', '3', '129', '33', '221', '250', '165', '187'}, {'209', '89', '87', '92', '121', '90', '28', '68', '198', '41', '16', '154', '110', '123', '34', '189', '280', '71', '119', '83', '230', '268', '226', '185', '141'}, {'102', '49', '205', '140', '244', '220', '269', '58', '225', '2', '234', '166', '172', '211', '200', '258', '73', '216', '35', '224', '104', '233', '31', '45', '67', '15', '48', '241', '29', '202', '201'}, {'118', '287', '212', '246', '245', '168', '21', '100', '113', '130', '240', '84', '217'}, {'289', '257', '178', '208', '214', '184', '86', '138', '23', '157', '267', '279', '273', '164', '98', '146', '107', '30', '115'}, {'137', '156', '120', '161', '111', '192', '22', '38', '262', '159', '243', '19', '204', '196', '261', '275', '64', '259', '101', '277', '252', '7', '55', '171'}, {'24', '53', '105', '266', '6', '175', '126', '94', '80', '206', '60', '122', '169', '274', '108', '195', '174', '235', '293'}, {'96', '191', '203', '286', '271', '77', '227', '117', '197', '300', '112', '81', '125', '135', '124', '79', '65', '285', '299', '272', '70', '183', '134', '260', '182', '148', '14'}, {'136', '291', '231', '37', '61', '9', '256', '51', '26', '253', '199', '56', '75', '292', '27', '133', '158', '263'}, {'66', '190', '149', '276', '297', '213', '103', '43', '74', '57', '93', '284', '50', '179', '238'}, {'25', '248', '54', '194', '181', '218', '1', '17', '150', '153', '11', '242', '282'}, {'5', '295', '278', '91', '8', '232', '281', '52', '219', '139', '215', '76', '39', '160', '239'}]\n"
     ]
    }
   ],
   "source": [
    "#checking the results (calculate h-modularity (alpha =1)) and print partition\n",
    "qH = hL.combined_modularity(A, alpha = 1,hmod_tau=1,resolution=1)\n",
    "print(\"qH\", qH)\n",
    "print(\"partition\",A)\n",
    "\n",
    "qHls = hL.combined_modularity(Als, alpha = 1,hmod_tau=1,resolution=1)\n",
    "print(\"qH_last_step\", qHls)\n",
    "print(\"partition\",Als)"
   ]
  },
  {
   "cell_type": "code",
   "execution_count": 11,
   "id": "b0f19cc7",
   "metadata": {},
   "outputs": [
    {
     "name": "stdout",
     "output_type": "stream",
     "text": [
      "ground-truth partition\n",
      "[{'96', '191', '203', '286', '271', '77', '117', '227', '254', '197', '300', '112', '81', '125', '135', '124', '79', '65', '285', '272', '70', '183', '134', '260', '182', '148', '14', '144'}, {'209', '89', '87', '92', '121', '90', '28', '68', '198', '41', '16', '154', '110', '123', '34', '189', '280', '71', '119', '83', '230', '268', '226', '185', '141'}, {'251', '173', '266', '143', '78', '265', '151', '18', '116', '223', '210', '229', '228', '95', '221', '46', '288', '296', '12', '109', '72', '88', '152', '247', '222'}, {'4', '290', '114', '82', '177', '63', '40', '13', '162', '255', '167', '186', '147', '261', '62', '180', '236', '44', '32', '235', '270', '283'}, {'102', '49', '140', '257', '269', '58', '2', '166', '172', '200', '258', '216', '104', '299', '31', '45', '67', '174', '195', '29', '35', '201'}, {'66', '297', '43', '93', '50', '238', '80', '276', '211', '57', '284', '190', '169', '103', '149', '241', '213', '74', '179'}, {'157', '208', '214', '184', '289', '164', '146', '107', '30', '178', '267', '115', '279', '86', '138', '273', '23', '98'}, {'136', '37', '61', '231', '9', '51', '256', '26', '253', '199', '56', '27', '75', '158', '263'}, {'131', '163', '47', '42', '36', '298', '170', '59', '142', '10', '294', '99', '249', '264', '69'}, {'24', '126', '53', '94', '206', '60', '122', '274', '105', '108', '293', '6', '282', '175'}, {'5', '295', '8', '91', '232', '278', '52', '219', '139', '215', '76', '39', '160', '239'}, {'128', '188', '291', '97', '85', '193', '155', '106', '145', '237', '292', '132', '133', '20'}, {'118', '212', '287', '245', '246', '168', '21', '100', '113', '130', '240', '84', '217'}, {'204', '120', '111', '55', '7', '196', '38', '101', '259', '19', '171', '159'}, {'25', '248', '54', '194', '181', '1', '218', '17', '150', '153', '11', '242'}, {'252', '137', '156', '161', '243', '192', '22', '64', '275', '277', '262'}, {'15', '48', '205', '224', '234', '244', '220', '233', '225', '202', '73'}, {'127', '207', '176', '3', '129', '281', '33', '250', '165', '187'}]\n",
      "qh-gt: 0.5243406432772443\n"
     ]
    }
   ],
   "source": [
    "## ground truth\n",
    "\n",
    "with open(\"datasets/results_300_assign.txt\", 'r') as file:\n",
    "    gt = [int(line) for line in file]\n",
    "A_gt = [x for x in hmod.dict2part({str(i+1):gt[i] for i in range(len(gt))}) if len(x)>0]\n",
    "gt_mod = hL.combined_modularity(A_gt, alpha = 1,hmod_tau=1,resolution=1)\n",
    "\n",
    "print(\"ground-truth partition\")\n",
    "print(A_gt)\n",
    "print(\"qh-gt:\",gt_mod)\n",
    "\n",
    "def getAMI_ARI(HG,gt,A):\n",
    "    d = hmod.part2dict(A)\n",
    "    A4ari = [d[str(i+1)] for i in range(len(HG.nodes))]\n",
    "    return ARI(gt, A4ari), AMI(gt, A4ari)"
   ]
  },
  {
   "cell_type": "code",
   "execution_count": 12,
   "id": "7455a4e5",
   "metadata": {},
   "outputs": [
    {
     "name": "stdout",
     "output_type": "stream",
     "text": [
      "ARI = 0.7607284749397808\n",
      "AMI = 0.8582215418720631\n",
      "comm = 15\n",
      "comm-gt = 18\n"
     ]
    }
   ],
   "source": [
    "#AMI and ARI for basic A\n",
    "\n",
    "ari, ami = getAMI_ARI(HG,gt,A)\n",
    "print(\"ARI =\", ari)\n",
    "print(\"AMI =\", ami)\n",
    "print(\"comm =\", len(A))\n",
    "print(\"comm-gt =\", len(A_gt))"
   ]
  },
  {
   "cell_type": "code",
   "execution_count": 13,
   "id": "720ad934",
   "metadata": {},
   "outputs": [
    {
     "name": "stdout",
     "output_type": "stream",
     "text": [
      "ARI = 0.7647769209702481\n",
      "AMI = 0.8592088864373395\n",
      "comm = 15\n",
      "comm-gt = 18\n"
     ]
    }
   ],
   "source": [
    "#AMI and ARI for the result after Last Step optimization\n",
    "\n",
    "ari, ami = getAMI_ARI(HG,gt,Als)\n",
    "print(\"ARI =\", ari)\n",
    "print(\"AMI =\", ami)\n",
    "print(\"comm =\", len(Als))\n",
    "print(\"comm-gt =\", len(A_gt))"
   ]
  },
  {
   "cell_type": "markdown",
   "id": "25567c20",
   "metadata": {},
   "source": [
    "### Bigger example "
   ]
  },
  {
   "cell_type": "code",
   "execution_count": 14,
   "id": "b7db3479",
   "metadata": {},
   "outputs": [],
   "source": [
    "HG = load_ABCDH_from_file(\"datasets/results_3000_he.txt\")\n",
    "## julia --project abcdh.jl -n 3000 -d 2.5,5,20 -c 1.5,10,30 -x 0.3 -q 0.0,0.4,0.3,0.2,0.1 -w :linear -s 1234 --stats -o results_3000\n"
   ]
  },
  {
   "cell_type": "code",
   "execution_count": 15,
   "id": "d7371dcf",
   "metadata": {},
   "outputs": [
    {
     "name": "stdout",
     "output_type": "stream",
     "text": [
      "CPU times: user 7.08 s, sys: 11.4 ms, total: 7.09 s\n",
      "Wall time: 7.09 s\n"
     ]
    }
   ],
   "source": [
    "%%time\n",
    "\n",
    "hL = hl.hLouvain(HG, hmod_tau=1, resolution = 1, random_seed = 5673) "
   ]
  },
  {
   "cell_type": "code",
   "execution_count": 16,
   "id": "4c6bf253",
   "metadata": {},
   "outputs": [
    {
     "name": "stdout",
     "output_type": "stream",
     "text": [
      "alphas_out [0.0, 0.8, 0.96, 0.992, 1]\n",
      "final_alpha 1\n",
      "q2 = 0.568983501700291\n",
      "CPU times: user 18.5 s, sys: 47.9 ms, total: 18.6 s\n",
      "Wall time: 18.6 s\n"
     ]
    }
   ],
   "source": [
    "%%time\n",
    "\n",
    "alphas = []\n",
    "c = 0.3\n",
    "b = 0.8\n",
    "for i in range(30):\n",
    "    alphas.append(1-((1-b)**i))\n",
    "\n",
    "#alphas = [0]\n",
    "#alphas = [1]\n",
    "\n",
    "A, q2, alphas_out = hL.h_louvain_community(alphas = alphas, change_frequency = c)\n",
    "\n",
    "print(\"alphas_out\", alphas_out)\n",
    "print(\"final_alpha\", alphas_out[-1])\n",
    "print(\"q2 =\",q2)"
   ]
  },
  {
   "cell_type": "code",
   "execution_count": 17,
   "id": "88acc37f",
   "metadata": {},
   "outputs": [
    {
     "name": "stdout",
     "output_type": "stream",
     "text": [
      "alphas_out [0.0, 0.8, 0.96, 0.992, 1]\n",
      "final_alpha 1\n",
      "qH-basic = 0.568983501700291\n",
      "qH+last_step = 0.5720527848869881\n",
      "CPU times: user 1min 6s, sys: 292 ms, total: 1min 6s\n",
      "Wall time: 1min 6s\n"
     ]
    }
   ],
   "source": [
    "%%time\n",
    "\n",
    "alphas = []\n",
    "c = 0.3\n",
    "b = 0.8\n",
    "for i in range(30):\n",
    "    alphas.append(1-((1-b)**i))\n",
    "    \n",
    "    \n",
    "Als, A, qH_ls, qH_basic, alphas_out = hL.h_louvain_community_plus_last_step(alphas = alphas, change_frequency = c)\n",
    "\n",
    "\n",
    "print(\"alphas_out\", alphas_out)\n",
    "print(\"final_alpha\", alphas_out[-1])\n",
    "print(\"qH-basic =\",qH_basic)\n",
    "print(\"qH+last_step =\",qH_ls)"
   ]
  },
  {
   "cell_type": "markdown",
   "id": "086b0786",
   "metadata": {},
   "source": [
    "## Weighted graph"
   ]
  },
  {
   "cell_type": "code",
   "execution_count": 18,
   "id": "43c72251",
   "metadata": {},
   "outputs": [
    {
     "name": "stdout",
     "output_type": "stream",
     "text": [
      "198 nodes and 1492 edges\n"
     ]
    }
   ],
   "source": [
    "import pickle\n",
    "\n",
    "def load_GoT():\n",
    "    ## load the GoT dataset\n",
    "    Edges, Names, Weights = pickle.load(open( \"datasets/GoT.pkl\", \"rb\" ))\n",
    "    print(len(Names),'nodes and',len(Edges),'edges')\n",
    "\n",
    "    HG = hnx.Hypergraph(dict(enumerate(Edges)))\n",
    "    ## add edge weights\n",
    "    for e in HG.edges:\n",
    "        #HG.dataframe[\"weight\"] = Weights\n",
    "        HG.edges[e].weight = Weights[e]\n",
    "    return HG\n",
    "\n",
    "HG = load_GoT()"
   ]
  },
  {
   "cell_type": "code",
   "execution_count": 19,
   "id": "b31725ae",
   "metadata": {},
   "outputs": [],
   "source": [
    "hL = hl.hLouvain(HG, hmod_tau=\"infinity\", resolution = 1, random_seed = 5673) "
   ]
  },
  {
   "cell_type": "code",
   "execution_count": 20,
   "id": "0a9cd4ae",
   "metadata": {},
   "outputs": [
    {
     "name": "stderr",
     "output_type": "stream",
     "text": [
      "/home/pawel/dell/research/repos/h-louvain/h_louvain.py:159: FutureWarning: Series.__getitem__ treating keys as positions is deprecated. In a future version, integer keys will always be treated as labels (consistent with DataFrame behavior). To access a value by position, use `ser.iloc[pos]`\n",
      "  [wdc[k[1]][k[0]]* v[0] for (k, v) in _df.iterrows() if k[0] > k[1] / 2]\n"
     ]
    },
    {
     "name": "stdout",
     "output_type": "stream",
     "text": [
      "alphas_out [0.0, 0.7, 0.9099999999999999, 1]\n",
      "final_alpha 1\n",
      "q2 = 0.5700210291240112\n",
      "CPU times: user 1min 46s, sys: 249 ms, total: 1min 46s\n",
      "Wall time: 1min 46s\n"
     ]
    }
   ],
   "source": [
    "%%time\n",
    "\n",
    "alphas = []\n",
    "c = 0.2\n",
    "b = 0.7\n",
    "for i in range(30):\n",
    "    alphas.append(1-((1-b)**i))\n",
    "\n",
    "#alphas = [0]\n",
    "#alphas = [1]\n",
    "\n",
    "A, q2, alphas_out = hL.h_louvain_community(alphas = alphas, change_frequency = c)\n",
    "\n",
    "print(\"alphas_out\", alphas_out)\n",
    "print(\"final_alpha\", alphas_out[-1])\n",
    "print(\"q2 =\",q2)"
   ]
  },
  {
   "cell_type": "code",
   "execution_count": 21,
   "id": "e753f0b1",
   "metadata": {},
   "outputs": [
    {
     "name": "stderr",
     "output_type": "stream",
     "text": [
      "/home/pawel/dell/research/repos/h-louvain/h_louvain.py:159: FutureWarning: Series.__getitem__ treating keys as positions is deprecated. In a future version, integer keys will always be treated as labels (consistent with DataFrame behavior). To access a value by position, use `ser.iloc[pos]`\n",
      "  [wdc[k[1]][k[0]]* v[0] for (k, v) in _df.iterrows() if k[0] > k[1] / 2]\n"
     ]
    },
    {
     "name": "stdout",
     "output_type": "stream",
     "text": [
      "alphas_out [0.0, 0.7, 0.9099999999999999, 1]\n",
      "final_alpha 1\n",
      "q2 = 0.5700210291240112\n",
      "CPU times: user 1.01 s, sys: 112 µs, total: 1.01 s\n",
      "Wall time: 990 ms\n"
     ]
    }
   ],
   "source": [
    "%%time\n",
    "\n",
    "### second run with different c and b (faster since the degree taxes are precalculated)\n",
    "\n",
    "alphas = []\n",
    "c = 0.2\n",
    "b = 0.7\n",
    "for i in range(30):\n",
    "    alphas.append(1-((1-b)**i))\n",
    "\n",
    "#alphas = [0]\n",
    "#alphas = [1]\n",
    "\n",
    "A, q2, alphas_out = hL.h_louvain_community(alphas = alphas, change_frequency = c)\n",
    "\n",
    "print(\"alphas_out\", alphas_out)\n",
    "print(\"final_alpha\", alphas_out[-1])\n",
    "print(\"q2 =\",q2)"
   ]
  },
  {
   "cell_type": "code",
   "execution_count": 22,
   "id": "138e719f",
   "metadata": {},
   "outputs": [
    {
     "name": "stdout",
     "output_type": "stream",
     "text": [
      "alphas_out [0.0, 0.8, 0.96, 0.992, 1]\n",
      "final_alpha 1\n",
      "qH-basic = 0.5700585597535348\n",
      "qH+last_step = 0.5717924615951986\n",
      "CPU times: user 1min 52s, sys: 144 ms, total: 1min 52s\n",
      "Wall time: 1min 52s\n"
     ]
    }
   ],
   "source": [
    "%%time\n",
    "\n",
    "import warnings\n",
    "\n",
    "with warnings.catch_warnings(action=\"ignore\"):\n",
    "\n",
    "\n",
    "    alphas = []\n",
    "    c = 0.3\n",
    "    b = 0.8\n",
    "    for i in range(30):\n",
    "        alphas.append(1-((1-b)**i))\n",
    "\n",
    "\n",
    "    Als, A, qH_ls, qH_basic, alphas_out = hL.h_louvain_community_plus_last_step(alphas = alphas, \n",
    "                                                                                change_frequency = c)\n",
    "\n",
    "\n",
    "    print(\"alphas_out\", alphas_out)\n",
    "    print(\"final_alpha\", alphas_out[-1])\n",
    "    print(\"qH-basic =\",qH_basic)\n",
    "    print(\"qH+last_step =\",qH_ls)\n",
    "    "
   ]
  },
  {
   "cell_type": "code",
   "execution_count": null,
   "id": "a0cdc9f8",
   "metadata": {},
   "outputs": [],
   "source": []
  },
  {
   "cell_type": "code",
   "execution_count": null,
   "id": "6289c522",
   "metadata": {},
   "outputs": [],
   "source": []
  }
 ],
 "metadata": {
  "kernelspec": {
   "display_name": "my-pyt3-11-hnx3",
   "language": "python",
   "name": "my-pyt3-11-hnx3"
  },
  "language_info": {
   "codemirror_mode": {
    "name": "ipython",
    "version": 3
   },
   "file_extension": ".py",
   "mimetype": "text/x-python",
   "name": "python",
   "nbconvert_exporter": "python",
   "pygments_lexer": "ipython3",
   "version": "3.11.9"
  }
 },
 "nbformat": 4,
 "nbformat_minor": 5
}
