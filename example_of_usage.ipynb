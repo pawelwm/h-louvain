{
 "cells": [
  {
   "cell_type": "code",
   "execution_count": 1,
   "id": "8e8f7051",
   "metadata": {},
   "outputs": [],
   "source": [
    "from sklearn.metrics import adjusted_rand_score as ARI\n",
    "from sklearn.metrics import adjusted_mutual_info_score as AMI \n",
    "import hypernetx as hnx\n",
    "import hypernetx.algorithms.hypergraph_modularity as hmod\n",
    "from collections import Counter\n",
    "import igraph as ig\n",
    "import pandas as pd\n",
    "import numpy as np\n",
    "import h_louvain as hl\n",
    "import csv\n",
    "import bayes_opt\n",
    "\n"
   ]
  },
  {
   "cell_type": "code",
   "execution_count": 2,
   "id": "3739c422",
   "metadata": {},
   "outputs": [],
   "source": [
    "def load_ABCDH_from_file(filename):\n",
    "    with open(filename,\"r\") as f:\n",
    "        rd = csv.reader(f)\n",
    "        lines = list(rd)\n",
    "    Edges = []\n",
    "    for line in lines:\n",
    "        Edges.append(list(line))\n",
    "\n",
    "    HG = hnx.Hypergraph(dict(enumerate(Edges)))\n",
    "    return HG"
   ]
  },
  {
   "cell_type": "code",
   "execution_count": 3,
   "id": "4a4fcf01",
   "metadata": {
    "scrolled": true
   },
   "outputs": [],
   "source": [
    "HG = load_ABCDH_from_file(\"datasets/results_300_he.txt\")\n",
    "## julia --project abcdh.jl -n 300 -d 2.5,5,20 -c 1.5,10,30 -x 0.3 -q 0.0,0.4,0.3,0.2,0.1 -w :linear -s 1234 --stats -o results_300\n"
   ]
  },
  {
   "cell_type": "code",
   "execution_count": 4,
   "id": "194f456d",
   "metadata": {},
   "outputs": [
    {
     "name": "stdout",
     "output_type": "stream",
     "text": [
      "CPU times: user 125 ms, sys: 4.37 ms, total: 129 ms\n",
      "Wall time: 128 ms\n"
     ]
    }
   ],
   "source": [
    "%%time\n",
    "# hmod_tau: w(d,c) = (c/d)^tau for c>d/2 else 0\n",
    "# hmod_tau = 1 (linear) \n",
    "# hmod_tau = 0 (majority)\n",
    "# hmod_tau = \"infinity\" (strict)\n",
    "\n",
    "hL = hl.hLouvain(HG, hmod_tau=1, resolution = 1, random_seed = 123) \n"
   ]
  },
  {
   "cell_type": "code",
   "execution_count": 5,
   "id": "8e8708a4",
   "metadata": {},
   "outputs": [],
   "source": [
    "## basic hLouvain algorithm execution (without the last_step optimization)"
   ]
  },
  {
   "cell_type": "code",
   "execution_count": 6,
   "id": "5c4bc41f",
   "metadata": {
    "scrolled": true
   },
   "outputs": [
    {
     "name": "stdout",
     "output_type": "stream",
     "text": [
      "alphas_out [0.0, 0.8, 0.96, 1]\n",
      "final_alpha 1\n",
      "q2 = 0.5309079514468399\n",
      "CPU times: user 811 ms, sys: 4.17 ms, total: 815 ms\n",
      "Wall time: 814 ms\n"
     ]
    }
   ],
   "source": [
    "%%time\n",
    "\n",
    "alphas = []\n",
    "c = 0.3\n",
    "b = 0.8\n",
    "for i in range(30):\n",
    "    alphas.append(1-((1-b)**i))\n",
    "\n",
    "#alphas = [0]\n",
    "#alphas = [1]\n",
    "\n",
    "A, q2, alphas_out = hL.h_louvain_community(alphas = alphas, change_frequency = c)\n",
    "\n",
    "print(\"alphas_out\", alphas_out)\n",
    "print(\"final_alpha\", alphas_out[-1])\n",
    "print(\"q2 =\",q2)"
   ]
  },
  {
   "cell_type": "code",
   "execution_count": 7,
   "id": "3b06f3a6",
   "metadata": {},
   "outputs": [
    {
     "name": "stdout",
     "output_type": "stream",
     "text": [
      "qH 0.5309079514468399\n",
      "partition [{'109', '88', '247', '46', '12', '85', '143', '18', '210', '116', '288', '237', '173', '97', '72', '128', '155', '188', '223', '228', '152', '151', '222', '20', '106', '251', '229', '193', '78', '265', '249', '95', '145', '132'}, {'283', '62', '235', '290', '13', '147', '186', '177', '180', '114', '4', '82', '270', '44', '40', '32', '167', '63', '236', '162', '255'}, {'142', '294', '36', '163', '298', '170', '131', '99', '42', '254', '69', '59', '264', '144', '47', '10'}, {'207', '187', '3', '250', '129', '33', '165', '221', '176', '127'}, {'226', '280', '198', '28', '71', '68', '92', '41', '123', '189', '110', '209', '141', '83', '121', '154', '185', '268', '16', '90', '87', '119', '34', '89', '230'}, {'67', '104', '224', '73', '35', '45', '201', '216', '233', '166', '205', '202', '258', '48', '140', '241', '15', '225', '200', '102', '244', '269', '49', '31', '234', '211', '220', '172', '2', '266', '58', '29'}, {'212', '100', '118', '246', '240', '287', '217', '245', '130', '84', '21', '168', '113'}, {'279', '30', '86', '146', '98', '157', '289', '208', '164', '115', '23', '214', '257', '178', '267', '273', '138', '184', '107'}, {'259', '101', '120', '243', '252', '192', '204', '277', '275', '64', '19', '262', '261', '161', '38', '156', '171', '22', '55', '111', '159', '137', '196', '7'}, {'108', '122', '195', '105', '293', '80', '126', '174', '175', '206', '53', '94', '60', '274', '169', '24', '6'}, {'81', '260', '296', '285', '14', '148', '135', '124', '65', '272', '271', '286', '117', '125', '70', '112', '197', '203', '300', '79', '191', '134', '182', '77', '227', '183', '299', '96'}, {'133', '27', '231', '51', '75', '253', '136', '26', '199', '37', '263', '56', '292', '61', '158', '291', '256', '9'}, {'103', '276', '179', '149', '297', '50', '190', '238', '284', '213', '66', '93', '57', '74', '43'}, {'218', '153', '1', '282', '54', '194', '25', '11', '181', '248', '17', '242', '150'}, {'160', '295', '76', '5', '232', '52', '281', '91', '139', '219', '239', '278', '39', '215', '8'}]\n"
     ]
    }
   ],
   "source": [
    "#checking the results (calculate h-modularity (alpha =1)) and print partition\n",
    "qH = hL.combined_modularity(A, alpha = 1,hmod_tau=1,resolution=1)\n",
    "print(\"qH\", qH)\n",
    "print(\"partition\",A)"
   ]
  },
  {
   "cell_type": "code",
   "execution_count": 8,
   "id": "f5ebb111",
   "metadata": {},
   "outputs": [],
   "source": [
    "## enhanced algorithm execution (with the last step optimization)"
   ]
  },
  {
   "cell_type": "code",
   "execution_count": 9,
   "id": "0e799ac0",
   "metadata": {},
   "outputs": [
    {
     "name": "stdout",
     "output_type": "stream",
     "text": [
      "alphas_out [0.0, 0.8, 0.96, 1]\n",
      "final_alpha 1\n",
      "qH-basic = 0.5309079514468399\n",
      "qH+last_step = 0.532611196913002\n",
      "CPU times: user 3.68 s, sys: 25.8 ms, total: 3.71 s\n",
      "Wall time: 3.69 s\n"
     ]
    }
   ],
   "source": [
    "%%time\n",
    "\n",
    "alphas = []\n",
    "c = 0.3\n",
    "b = 0.8\n",
    "for i in range(30):\n",
    "    alphas.append(1-((1-b)**i))\n",
    "    \n",
    "    \n",
    "Als, A, qH_ls, qH_basic, alphas_out = hL.h_louvain_community_plus_last_step(alphas = alphas, change_frequency = c)\n",
    "\n",
    "\n",
    "print(\"alphas_out\", alphas_out)\n",
    "print(\"final_alpha\", alphas_out[-1])\n",
    "print(\"qH-basic =\",qH_basic)\n",
    "print(\"qH+last_step =\",qH_ls)\n"
   ]
  },
  {
   "cell_type": "code",
   "execution_count": 10,
   "id": "183f711e",
   "metadata": {},
   "outputs": [
    {
     "name": "stdout",
     "output_type": "stream",
     "text": [
      "qH 0.5309079514468399\n",
      "partition [{'109', '88', '247', '46', '12', '85', '143', '18', '210', '116', '288', '237', '173', '97', '72', '128', '155', '188', '223', '228', '152', '151', '222', '20', '106', '251', '229', '193', '78', '265', '249', '95', '145', '132'}, {'283', '62', '235', '290', '13', '147', '186', '177', '180', '114', '4', '82', '270', '44', '40', '32', '167', '63', '236', '162', '255'}, {'142', '294', '36', '163', '298', '170', '131', '99', '42', '254', '69', '59', '264', '144', '47', '10'}, {'207', '187', '3', '250', '129', '33', '165', '221', '176', '127'}, {'226', '280', '198', '28', '71', '68', '92', '41', '123', '189', '110', '209', '141', '83', '121', '154', '185', '268', '16', '90', '87', '119', '34', '89', '230'}, {'67', '104', '224', '73', '35', '45', '201', '216', '233', '166', '205', '202', '258', '48', '140', '241', '15', '225', '200', '102', '244', '269', '49', '31', '234', '211', '220', '172', '2', '266', '58', '29'}, {'212', '100', '118', '246', '240', '287', '217', '245', '130', '84', '21', '168', '113'}, {'279', '30', '86', '146', '98', '157', '289', '208', '164', '115', '23', '214', '257', '178', '267', '273', '138', '184', '107'}, {'259', '101', '120', '243', '252', '192', '204', '277', '275', '64', '19', '262', '261', '161', '38', '156', '171', '22', '55', '111', '159', '137', '196', '7'}, {'108', '122', '195', '105', '293', '80', '126', '174', '175', '206', '53', '94', '60', '274', '169', '24', '6'}, {'81', '260', '296', '285', '14', '148', '135', '124', '65', '272', '271', '286', '117', '125', '70', '112', '197', '203', '300', '79', '191', '134', '182', '77', '227', '183', '299', '96'}, {'133', '27', '231', '51', '75', '253', '136', '26', '199', '37', '263', '56', '292', '61', '158', '291', '256', '9'}, {'103', '276', '179', '149', '297', '50', '190', '238', '284', '213', '66', '93', '57', '74', '43'}, {'218', '153', '1', '282', '54', '194', '25', '11', '181', '248', '17', '242', '150'}, {'160', '295', '76', '5', '232', '52', '281', '91', '139', '219', '239', '278', '39', '215', '8'}]\n",
      "qH_last_step 0.532611196913002\n",
      "partition [{'109', '88', '247', '46', '12', '85', '143', '18', '210', '116', '288', '237', '173', '97', '72', '128', '155', '188', '223', '228', '152', '151', '222', '264', '20', '106', '251', '229', '193', '78', '265', '249', '95', '145', '132'}, {'283', '62', '290', '13', '147', '186', '177', '180', '114', '4', '82', '270', '44', '40', '32', '167', '63', '236', '162', '255'}, {'142', '36', '294', '163', '298', '144', '296', '131', '99', '42', '254', '69', '59', '170', '47', '10'}, {'207', '187', '3', '250', '129', '33', '165', '221', '176', '127'}, {'226', '280', '198', '28', '71', '68', '92', '41', '123', '189', '110', '209', '141', '83', '121', '154', '185', '268', '16', '90', '87', '119', '34', '89', '230'}, {'67', '104', '224', '73', '35', '45', '201', '216', '233', '166', '205', '202', '258', '48', '140', '241', '15', '200', '225', '102', '244', '269', '49', '31', '234', '211', '220', '172', '2', '58', '29'}, {'212', '100', '118', '246', '240', '287', '217', '245', '130', '84', '21', '168', '113'}, {'279', '30', '86', '146', '98', '157', '289', '208', '164', '115', '23', '214', '257', '178', '267', '273', '138', '184', '107'}, {'259', '101', '120', '243', '252', '192', '204', '277', '275', '64', '19', '262', '261', '161', '38', '156', '171', '22', '55', '111', '159', '137', '196', '7'}, {'195', '80', '174', '175', '235', '169', '24', '53', '126', '206', '94', '274', '122', '105', '6', '108', '60', '293', '266'}, {'81', '260', '285', '14', '148', '135', '124', '65', '272', '271', '286', '117', '125', '70', '112', '197', '203', '300', '79', '191', '134', '182', '77', '227', '183', '299', '96'}, {'133', '75', '51', '231', '253', '136', '26', '199', '37', '263', '9', '56', '292', '61', '158', '291', '256', '27'}, {'276', '103', '179', '149', '50', '190', '238', '57', '213', '43', '297', '93', '66', '74', '284'}, {'218', '153', '1', '282', '54', '194', '25', '11', '181', '248', '17', '242', '150'}, {'160', '295', '76', '5', '232', '52', '281', '91', '139', '219', '239', '278', '39', '215', '8'}]\n"
     ]
    }
   ],
   "source": [
    "#checking the results (calculate h-modularity (alpha =1)) and print partition\n",
    "qH = hL.combined_modularity(A, alpha = 1,hmod_tau=1,resolution=1)\n",
    "print(\"qH\", qH)\n",
    "print(\"partition\",A)\n",
    "\n",
    "qHls = hL.combined_modularity(Als, alpha = 1,hmod_tau=1,resolution=1)\n",
    "print(\"qH_last_step\", qHls)\n",
    "print(\"partition\",Als)"
   ]
  },
  {
   "cell_type": "code",
   "execution_count": 11,
   "id": "b0f19cc7",
   "metadata": {},
   "outputs": [
    {
     "name": "stdout",
     "output_type": "stream",
     "text": [
      "ground-truth partition\n",
      "[{'81', '260', '285', '14', '148', '135', '124', '65', '272', '271', '286', '125', '117', '70', '112', '197', '203', '79', '300', '191', '134', '254', '182', '144', '77', '227', '183', '96'}, {'226', '198', '280', '28', '71', '68', '92', '41', '123', '189', '110', '209', '141', '83', '121', '154', '185', '268', '16', '90', '87', '119', '34', '89', '230'}, {'109', '88', '296', '247', '46', '12', '221', '143', '18', '210', '116', '288', '173', '72', '223', '152', '228', '151', '222', '251', '229', '78', '265', '95', '266'}, {'283', '62', '235', '290', '13', '147', '186', '177', '261', '180', '114', '4', '82', '270', '44', '40', '32', '167', '63', '236', '162', '255'}, {'67', '104', '195', '35', '45', '201', '174', '216', '166', '258', '140', '200', '102', '269', '49', '31', '299', '257', '172', '2', '58', '29'}, {'103', '179', '80', '190', '213', '93', '169', '284', '238', '241', '66', '57', '149', '50', '211', '297', '43', '276', '74'}, {'214', '279', '178', '138', '30', '164', '184', '146', '98', '157', '267', '86', '115', '273', '107', '208', '289', '23'}, {'51', '75', '231', '253', '26', '136', '199', '37', '9', '263', '56', '61', '158', '256', '27'}, {'142', '36', '163', '294', '298', '249', '99', '42', '59', '131', '69', '264', '170', '47', '10'}, {'108', '122', '105', '293', '126', '282', '175', '206', '53', '94', '6', '274', '24', '60'}, {'160', '295', '76', '5', '232', '52', '91', '139', '219', '239', '278', '39', '215', '8'}, {'193', '133', '237', '97', '128', '106', '155', '85', '188', '292', '132', '145', '20', '291'}, {'212', '100', '118', '217', '240', '246', '287', '245', '130', '84', '21', '168', '113'}, {'204', '55', '111', '259', '101', '159', '120', '38', '196', '19', '171', '7'}, {'218', '153', '1', '54', '194', '248', '25', '11', '181', '150', '17', '242'}, {'192', '22', '275', '277', '262', '161', '156', '64', '137', '243', '252'}, {'202', '220', '224', '73', '244', '48', '233', '234', '205', '15', '225'}, {'207', '187', '3', '250', '129', '33', '165', '281', '176', '127'}]\n",
      "qh-gt: 0.5243406432772443\n"
     ]
    }
   ],
   "source": [
    "## ground truth\n",
    "\n",
    "with open(\"datasets/results_300_assign.txt\", 'r') as file:\n",
    "    gt = [int(line) for line in file]\n",
    "A_gt = [x for x in hmod.dict2part({str(i+1):gt[i] for i in range(len(gt))}) if len(x)>0]\n",
    "gt_mod = hL.combined_modularity(A_gt, alpha = 1,hmod_tau=1,resolution=1)\n",
    "\n",
    "print(\"ground-truth partition\")\n",
    "print(A_gt)\n",
    "print(\"qh-gt:\",gt_mod)\n",
    "\n",
    "def getAMI_ARI(HG,gt,A):\n",
    "    d = hmod.part2dict(A)\n",
    "    A4ari = [d[str(i+1)] for i in range(len(HG.nodes))]\n",
    "    return ARI(gt, A4ari), AMI(gt, A4ari)"
   ]
  },
  {
   "cell_type": "code",
   "execution_count": 12,
   "id": "7455a4e5",
   "metadata": {},
   "outputs": [
    {
     "name": "stdout",
     "output_type": "stream",
     "text": [
      "ARI = 0.7607284749397808\n",
      "AMI = 0.8582215418720631\n",
      "comm = 15\n",
      "comm-gt = 18\n"
     ]
    }
   ],
   "source": [
    "#AMI and ARI for basic A\n",
    "\n",
    "ari, ami = getAMI_ARI(HG,gt,A)\n",
    "print(\"ARI =\", ari)\n",
    "print(\"AMI =\", ami)\n",
    "print(\"comm =\", len(A))\n",
    "print(\"comm-gt =\", len(A_gt))"
   ]
  },
  {
   "cell_type": "code",
   "execution_count": 13,
   "id": "720ad934",
   "metadata": {},
   "outputs": [
    {
     "name": "stdout",
     "output_type": "stream",
     "text": [
      "ARI = 0.7502721326846687\n",
      "AMI = 0.8495035736220896\n",
      "comm = 15\n",
      "comm-gt = 18\n"
     ]
    }
   ],
   "source": [
    "#AMI and ARI for the result after Last Step optimization\n",
    "\n",
    "ari, ami = getAMI_ARI(HG,gt,Als)\n",
    "print(\"ARI =\", ari)\n",
    "print(\"AMI =\", ami)\n",
    "print(\"comm =\", len(Als))\n",
    "print(\"comm-gt =\", len(A_gt))"
   ]
  },
  {
   "cell_type": "markdown",
   "id": "17c97705",
   "metadata": {},
   "source": [
    "### Bigger example "
   ]
  },
  {
   "cell_type": "code",
   "execution_count": 14,
   "id": "b7db3479",
   "metadata": {},
   "outputs": [],
   "source": [
    "HG = load_ABCDH_from_file(\"datasets/results_3000_he.txt\")\n",
    "## julia --project abcdh.jl -n 3000 -d 2.5,5,20 -c 1.5,10,30 -x 0.3 -q 0.0,0.4,0.3,0.2,0.1 -w :linear -s 1234 --stats -o results_3000\n"
   ]
  },
  {
   "cell_type": "code",
   "execution_count": 15,
   "id": "85947313",
   "metadata": {},
   "outputs": [
    {
     "name": "stdout",
     "output_type": "stream",
     "text": [
      "CPU times: user 6.74 s, sys: 1.29 ms, total: 6.74 s\n",
      "Wall time: 6.74 s\n"
     ]
    }
   ],
   "source": [
    "%%time\n",
    "\n",
    "hL = hl.hLouvain(HG, hmod_tau=1, resolution = 1, random_seed = 5673) "
   ]
  },
  {
   "cell_type": "code",
   "execution_count": 16,
   "id": "55a9aab2",
   "metadata": {},
   "outputs": [
    {
     "name": "stdout",
     "output_type": "stream",
     "text": [
      "alphas_out [0.0, 0.8, 0.96, 0.992, 1]\n",
      "final_alpha 1\n",
      "q2 = 0.568983501700291\n",
      "CPU times: user 15.6 s, sys: 29 ms, total: 15.7 s\n",
      "Wall time: 15.6 s\n"
     ]
    }
   ],
   "source": [
    "%%time\n",
    "\n",
    "alphas = []\n",
    "c = 0.3\n",
    "b = 0.8\n",
    "for i in range(30):\n",
    "    alphas.append(1-((1-b)**i))\n",
    "\n",
    "#alphas = [0]\n",
    "#alphas = [1]\n",
    "\n",
    "A, q2, alphas_out = hL.h_louvain_community(alphas = alphas, change_frequency = c)\n",
    "\n",
    "print(\"alphas_out\", alphas_out)\n",
    "print(\"final_alpha\", alphas_out[-1])\n",
    "print(\"q2 =\",q2)"
   ]
  },
  {
   "cell_type": "code",
   "execution_count": 17,
   "id": "beb83f16",
   "metadata": {},
   "outputs": [
    {
     "name": "stdout",
     "output_type": "stream",
     "text": [
      "alphas_out [0.0, 0.8, 0.96, 0.992, 1]\n",
      "final_alpha 1\n",
      "qH-basic = 0.568983501700291\n",
      "qH+last_step = 0.5721205900873205\n",
      "CPU times: user 57.1 s, sys: 217 ms, total: 57.3 s\n",
      "Wall time: 57 s\n"
     ]
    }
   ],
   "source": [
    "%%time\n",
    "\n",
    "alphas = []\n",
    "c = 0.3\n",
    "b = 0.8\n",
    "for i in range(30):\n",
    "    alphas.append(1-((1-b)**i))\n",
    "    \n",
    "    \n",
    "Als, A, qH_ls, qH_basic, alphas_out = hL.h_louvain_community_plus_last_step(alphas = alphas, change_frequency = c)\n",
    "\n",
    "\n",
    "print(\"alphas_out\", alphas_out)\n",
    "print(\"final_alpha\", alphas_out[-1])\n",
    "print(\"qH-basic =\",qH_basic)\n",
    "print(\"qH+last_step =\",qH_ls)"
   ]
  },
  {
   "cell_type": "markdown",
   "id": "2b70d615",
   "metadata": {},
   "source": [
    "## Weighted graph"
   ]
  },
  {
   "cell_type": "code",
   "execution_count": 18,
   "id": "c478361d",
   "metadata": {},
   "outputs": [
    {
     "name": "stdout",
     "output_type": "stream",
     "text": [
      "198 nodes and 1492 edges\n"
     ]
    }
   ],
   "source": [
    "import pickle\n",
    "\n",
    "def load_GoT():\n",
    "    ## load the GoT dataset\n",
    "    Edges, Names, Weights = pickle.load(open( \"datasets/GoT.pkl\", \"rb\" ))\n",
    "    print(len(Names),'nodes and',len(Edges),'edges')\n",
    "\n",
    "    HG = hnx.Hypergraph(dict(enumerate(Edges)))\n",
    "    ## add edge weights\n",
    "    for e in HG.edges:\n",
    "        #HG.dataframe[\"weight\"] = Weights\n",
    "        HG.edges[e].weight = Weights[e]\n",
    "    return HG\n",
    "\n",
    "HG = load_GoT()"
   ]
  },
  {
   "cell_type": "code",
   "execution_count": 19,
   "id": "ea2a6210",
   "metadata": {},
   "outputs": [],
   "source": [
    "hL = hl.hLouvain(HG, hmod_tau=\"infinity\", resolution = 1, random_seed = 5673) "
   ]
  },
  {
   "cell_type": "code",
   "execution_count": 20,
   "id": "a9c0dd69",
   "metadata": {},
   "outputs": [
    {
     "name": "stdout",
     "output_type": "stream",
     "text": [
      "alphas_out [0.0, 0.6, 0.84, 0.9359999999999999, 1]\n",
      "final_alpha 1\n",
      "q2 = 0.5700210291240112\n",
      "CPU times: user 1min 6s, sys: 200 ms, total: 1min 6s\n",
      "Wall time: 1min 5s\n"
     ]
    }
   ],
   "source": [
    "%%time\n",
    "\n",
    "alphas = []\n",
    "c = 0.3\n",
    "b = 0.6\n",
    "for i in range(30):\n",
    "    alphas.append(1-((1-b)**i))\n",
    "\n",
    "#alphas = [0]\n",
    "#alphas = [1]\n",
    "\n",
    "A, q2, alphas_out = hL.h_louvain_community(alphas = alphas, change_frequency = c)\n",
    "\n",
    "print(\"alphas_out\", alphas_out)\n",
    "print(\"final_alpha\", alphas_out[-1])\n",
    "print(\"q2 =\",q2)"
   ]
  },
  {
   "cell_type": "code",
   "execution_count": 21,
   "id": "9028bfc8",
   "metadata": {},
   "outputs": [
    {
     "name": "stdout",
     "output_type": "stream",
     "text": [
      "alphas_out [0.0, 0.7, 0.9099999999999999, 1]\n",
      "final_alpha 1\n",
      "q2 = 0.5700210291240112\n",
      "CPU times: user 11.2 s, sys: 32.2 ms, total: 11.3 s\n",
      "Wall time: 11.2 s\n"
     ]
    }
   ],
   "source": [
    "%%time\n",
    "\n",
    "### second run with different c and b (faster since the degree taxes are precalculated)\n",
    "\n",
    "alphas = []\n",
    "c = 0.2\n",
    "b = 0.7\n",
    "for i in range(30):\n",
    "    alphas.append(1-((1-b)**i))\n",
    "\n",
    "#alphas = [0]\n",
    "#alphas = [1]\n",
    "\n",
    "A, q2, alphas_out = hL.h_louvain_community(alphas = alphas, change_frequency = c)\n",
    "\n",
    "print(\"alphas_out\", alphas_out)\n",
    "print(\"final_alpha\", alphas_out[-1])\n",
    "print(\"q2 =\",q2)"
   ]
  },
  {
   "cell_type": "code",
   "execution_count": 22,
   "id": "64d1310d",
   "metadata": {},
   "outputs": [
    {
     "name": "stdout",
     "output_type": "stream",
     "text": [
      "alphas_out [0.0, 0.8, 0.96, 0.992, 1]\n",
      "final_alpha 1\n",
      "qH-basic = 0.5703178247693421\n",
      "qH+last_step = 0.57389831072123\n",
      "CPU times: user 1min 25s, sys: 136 ms, total: 1min 25s\n",
      "Wall time: 1min 25s\n"
     ]
    }
   ],
   "source": [
    "%%time\n",
    "\n",
    "\n",
    "\n",
    "alphas = []\n",
    "c = 0.3\n",
    "b = 0.8\n",
    "for i in range(30):\n",
    "    alphas.append(1-((1-b)**i))\n",
    "\n",
    "\n",
    "Als, A, qH_ls, qH_basic, alphas_out = hL.h_louvain_community_plus_last_step(alphas = alphas, \n",
    "                                                                            change_frequency = c)\n",
    "\n",
    "\n",
    "print(\"alphas_out\", alphas_out)\n",
    "print(\"final_alpha\", alphas_out[-1])\n",
    "print(\"qH-basic =\",qH_basic)\n",
    "print(\"qH+last_step =\",qH_ls)\n",
    "    "
   ]
  },
  {
   "cell_type": "code",
   "execution_count": null,
   "id": "95777e49",
   "metadata": {},
   "outputs": [],
   "source": []
  },
  {
   "cell_type": "code",
   "execution_count": null,
   "id": "430c9dbb",
   "metadata": {},
   "outputs": [],
   "source": []
  }
 ],
 "metadata": {
  "kernelspec": {
   "display_name": "my-pyt3-11-hnx3",
   "language": "python",
   "name": "my-pyt3-11-hnx3"
  },
  "language_info": {
   "codemirror_mode": {
    "name": "ipython",
    "version": 3
   },
   "file_extension": ".py",
   "mimetype": "text/x-python",
   "name": "python",
   "nbconvert_exporter": "python",
   "pygments_lexer": "ipython3",
   "version": "3.11.9"
  }
 },
 "nbformat": 4,
 "nbformat_minor": 5
}
